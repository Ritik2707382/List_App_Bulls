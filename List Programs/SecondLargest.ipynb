{
  "nbformat": 4,
  "nbformat_minor": 0,
  "metadata": {
    "colab": {
      "provenance": []
    },
    "kernelspec": {
      "name": "python3",
      "display_name": "Python 3"
    },
    "language_info": {
      "name": "python"
    }
  },
  "cells": [
    {
      "cell_type": "code",
      "execution_count": 4,
      "metadata": {
        "colab": {
          "base_uri": "https://localhost:8080/"
        },
        "id": "QSGgYL8uBfUJ",
        "outputId": "eefcb585-02e9-46cc-e205-5989472b096a"
      },
      "outputs": [
        {
          "output_type": "stream",
          "name": "stdout",
          "text": [
            "[2, 20, 7, 10, 45, 15]\n",
            "[2, 7, 10, 15, 20, 45]\n",
            "The Second Largest Number is: 20\n"
          ]
        }
      ],
      "source": [
        "L1={7,10,45,2,15,45,10,20}\n",
        "L2=list(set(L1))\n",
        "print(L2)\n",
        "L2.sort()\n",
        "print(L2)\n",
        "print(\"The Second Largest Number is:\",L2[-2])"
      ]
    }
  ]
}