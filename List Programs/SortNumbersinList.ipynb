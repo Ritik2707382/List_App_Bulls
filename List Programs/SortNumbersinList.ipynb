{
  "nbformat": 4,
  "nbformat_minor": 0,
  "metadata": {
    "colab": {
      "provenance": []
    },
    "kernelspec": {
      "name": "python3",
      "display_name": "Python 3"
    },
    "language_info": {
      "name": "python"
    }
  },
  "cells": [
    {
      "cell_type": "code",
      "execution_count": 5,
      "metadata": {
        "colab": {
          "base_uri": "https://localhost:8080/"
        },
        "id": "-z2jwkoOlHPO",
        "outputId": "bf239c86-cbb1-4915-ca80-59ae2c4a6b3a"
      },
      "outputs": [
        {
          "output_type": "stream",
          "name": "stdout",
          "text": [
            "[4, 6, 7, 8, 10]\n"
          ]
        }
      ],
      "source": [
        "list1=[10,8,4,6,7]\n",
        "list1.sort()\n",
        "print(list1)"
      ]
    }
  ]
}