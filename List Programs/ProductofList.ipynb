{
  "nbformat": 4,
  "nbformat_minor": 0,
  "metadata": {
    "colab": {
      "provenance": []
    },
    "kernelspec": {
      "name": "python3",
      "display_name": "Python 3"
    },
    "language_info": {
      "name": "python"
    }
  },
  "cells": [
    {
      "cell_type": "code",
      "execution_count": 4,
      "metadata": {
        "colab": {
          "base_uri": "https://localhost:8080/"
        },
        "id": "gbJCUBjWeB20",
        "outputId": "a42dc6f8-0101-4e4f-9b30-877607622b40"
      },
      "outputs": [
        {
          "output_type": "stream",
          "name": "stdout",
          "text": [
            "Product of all Numbers in a list: 120\n"
          ]
        }
      ],
      "source": [
        "list1=[1,2,3,4,5]\n",
        "product=1\n",
        "for i in list1:\n",
        "  product=product*i\n",
        "  i=i+1\n",
        "print(\"Product of all Numbers in a list:\",product)"
      ]
    }
  ]
}