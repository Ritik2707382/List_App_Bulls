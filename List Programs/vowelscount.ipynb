{
  "nbformat": 4,
  "nbformat_minor": 0,
  "metadata": {
    "colab": {
      "provenance": []
    },
    "kernelspec": {
      "name": "python3",
      "display_name": "Python 3"
    },
    "language_info": {
      "name": "python"
    }
  },
  "cells": [
    {
      "cell_type": "code",
      "execution_count": 7,
      "metadata": {
        "colab": {
          "base_uri": "https://localhost:8080/"
        },
        "id": "eDYTNJu8YDXD",
        "outputId": "90a2faac-de1d-4f31-c6a8-7514da4ec325"
      },
      "outputs": [
        {
          "output_type": "stream",
          "name": "stdout",
          "text": [
            "Total Number of vowels: 8\n"
          ]
        }
      ],
      "source": [
        "str1=\"Hello World Aeiou\"\n",
        "count=0\n",
        "vowels=['a','e','i','o','u','A','E','I','O','U']\n",
        "for i in str1:\n",
        "  if i in vowels:\n",
        "    count=count+1\n",
        "print(\"Total Number of vowels:\",count)"
      ]
    }
  ]
}