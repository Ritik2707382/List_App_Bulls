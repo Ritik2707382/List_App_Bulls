{
  "nbformat": 4,
  "nbformat_minor": 0,
  "metadata": {
    "colab": {
      "provenance": []
    },
    "kernelspec": {
      "name": "python3",
      "display_name": "Python 3"
    },
    "language_info": {
      "name": "python"
    }
  },
  "cells": [
    {
      "cell_type": "code",
      "execution_count": 10,
      "metadata": {
        "colab": {
          "base_uri": "https://localhost:8080/"
        },
        "id": "Xadd8v8JhbI3",
        "outputId": "bc34b2dc-a9ea-474b-c990-a95e5d2f4cff"
      },
      "outputs": [
        {
          "output_type": "stream",
          "name": "stdout",
          "text": [
            "List after sorting are: ['a', 'g', 'u']\n"
          ]
        }
      ],
      "source": [
        "list1=['g','u','a']\n",
        "list1.sort()\n",
        "print(\"List after sorting are:\",list1)"
      ]
    }
  ]
}