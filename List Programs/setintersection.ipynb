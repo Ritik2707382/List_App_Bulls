{
  "nbformat": 4,
  "nbformat_minor": 0,
  "metadata": {
    "colab": {
      "provenance": []
    },
    "kernelspec": {
      "name": "python3",
      "display_name": "Python 3"
    },
    "language_info": {
      "name": "python"
    }
  },
  "cells": [
    {
      "cell_type": "code",
      "execution_count": 2,
      "metadata": {
        "colab": {
          "base_uri": "https://localhost:8080/"
        },
        "id": "tjbpLeko11cv",
        "outputId": "235481df-d1d5-4b03-9f2b-0380f1e2711c"
      },
      "outputs": [
        {
          "output_type": "stream",
          "name": "stdout",
          "text": [
            "[1, 2, 3]\n"
          ]
        }
      ],
      "source": [
        "list1=[1,2,3,8,9]\n",
        "set1=set(list1)\n",
        "list2=[1,2,3,6,7]\n",
        "set2=set(list2)\n",
        "list3=list(set1.intersection(set2))\n",
        "print(list3)"
      ]
    }
  ]
}