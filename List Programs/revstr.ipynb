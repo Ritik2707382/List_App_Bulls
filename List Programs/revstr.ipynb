{
  "nbformat": 4,
  "nbformat_minor": 0,
  "metadata": {
    "colab": {
      "provenance": []
    },
    "kernelspec": {
      "name": "python3",
      "display_name": "Python 3"
    },
    "language_info": {
      "name": "python"
    }
  },
  "cells": [
    {
      "cell_type": "code",
      "execution_count": 7,
      "metadata": {
        "colab": {
          "base_uri": "https://localhost:8080/"
        },
        "id": "R6Y6zJbf-pBk",
        "outputId": "517a851b-ee90-45ca-eaa0-5eb72ad7b0d5"
      },
      "outputs": [
        {
          "output_type": "stream",
          "name": "stdout",
          "text": [
            "Enter the String:Hello World\n",
            "Hello World\n",
            "['Hello', 'World']\n",
            "['World', 'Hello']\n"
          ]
        }
      ],
      "source": [
        "s1=input(\"Enter the String:\")\n",
        "print(s1)\n",
        "l1=s1.split()\n",
        "print(l1)\n",
        "l1.reverse()\n",
        "print(l1)"
      ]
    },
    {
      "cell_type": "code",
      "source": [
        "s1=input(\"Enter the String:\")\n",
        "str=s1[::-1]\n",
        "print(str)"
      ],
      "metadata": {
        "colab": {
          "base_uri": "https://localhost:8080/"
        },
        "id": "f1ntOggoBejC",
        "outputId": "36fd9308-3c3d-47e8-8248-cab6d8907b9e"
      },
      "execution_count": 8,
      "outputs": [
        {
          "output_type": "stream",
          "name": "stdout",
          "text": [
            "Enter the String:Hello\n",
            "olleH\n"
          ]
        }
      ]
    }
  ]
}