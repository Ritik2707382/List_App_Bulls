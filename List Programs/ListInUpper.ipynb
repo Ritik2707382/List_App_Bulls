{
  "nbformat": 4,
  "nbformat_minor": 0,
  "metadata": {
    "colab": {
      "provenance": []
    },
    "kernelspec": {
      "name": "python3",
      "display_name": "Python 3"
    },
    "language_info": {
      "name": "python"
    }
  },
  "cells": [
    {
      "cell_type": "code",
      "execution_count": 7,
      "metadata": {
        "colab": {
          "base_uri": "https://localhost:8080/"
        },
        "id": "Eb9RIaHmbdzC",
        "outputId": "e81a57d0-3c14-44dc-e87b-eac521401fb2"
      },
      "outputs": [
        {
          "output_type": "stream",
          "name": "stdout",
          "text": [
            "HELLO WORLD, THIS IS A CODING PLATFORM\n",
            "List in Capital Form is: ['HELLO', 'WORLD,', 'THIS', 'IS', 'A', 'CODING', 'PLATFORM']\n"
          ]
        }
      ],
      "source": [
        "s1=\"hello world, this is a coding platform\"\n",
        "s2=s1.upper()\n",
        "print(s2)\n",
        "list1=s2.split()\n",
        "print(\"List in Capital Form is:\",list1)"
      ]
    }
  ]
}