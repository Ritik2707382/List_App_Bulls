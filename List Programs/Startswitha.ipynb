{
  "nbformat": 4,
  "nbformat_minor": 0,
  "metadata": {
    "colab": {
      "provenance": []
    },
    "kernelspec": {
      "name": "python3",
      "display_name": "Python 3"
    },
    "language_info": {
      "name": "python"
    }
  },
  "cells": [
    {
      "cell_type": "code",
      "execution_count": 10,
      "metadata": {
        "colab": {
          "base_uri": "https://localhost:8080/"
        },
        "id": "6RUHQ7qrvC5a",
        "outputId": "1c38fc2a-c21a-4d29-ee8a-6b8f80a3d911"
      },
      "outputs": [
        {
          "output_type": "stream",
          "name": "stdout",
          "text": [
            "['Mango', 'Grapes']\n"
          ]
        }
      ],
      "source": [
        "list1=[\"Apple\",\"Mango\",\"Grapes\",\"bcd\"]\n",
        "new_list=[]\n",
        "for string in list1:\n",
        "  if string.__contains__('a'):\n",
        "    new_list.append(string)\n",
        "print(new_list)"
      ]
    },
    {
      "cell_type": "code",
      "source": [
        "list1=[\"Apple\",\"Mango\",\"Grapes\",\"bcd\"]\n",
        "new_list=[]\n",
        "for string in list1:\n",
        "  if 'a' in string:\n",
        "    new_list.append(string)\n",
        "print(new_list)"
      ],
      "metadata": {
        "colab": {
          "base_uri": "https://localhost:8080/"
        },
        "id": "0rQssZ6O1LTw",
        "outputId": "1e6bda54-1b16-471b-eb48-ce2fa6ece015"
      },
      "execution_count": 11,
      "outputs": [
        {
          "output_type": "stream",
          "name": "stdout",
          "text": [
            "['Mango', 'Grapes']\n"
          ]
        }
      ]
    }
  ]
}