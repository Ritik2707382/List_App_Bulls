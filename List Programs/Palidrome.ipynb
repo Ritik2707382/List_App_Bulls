{
  "nbformat": 4,
  "nbformat_minor": 0,
  "metadata": {
    "colab": {
      "provenance": []
    },
    "kernelspec": {
      "name": "python3",
      "display_name": "Python 3"
    },
    "language_info": {
      "name": "python"
    }
  },
  "cells": [
    {
      "cell_type": "code",
      "execution_count": 12,
      "metadata": {
        "colab": {
          "base_uri": "https://localhost:8080/"
        },
        "id": "M-ZuaEtY6JXo",
        "outputId": "a9c60942-f244-4d1c-d603-3f9766fa2fe2"
      },
      "outputs": [
        {
          "output_type": "stream",
          "name": "stdout",
          "text": [
            "g\n",
            "eg\n",
            "eeg\n",
            "keeg\n",
            "skeeg\n",
            "False\n"
          ]
        }
      ],
      "source": [
        "str1=\"geeks\"\n",
        "str2=\"\"\n",
        "for i in str1:\n",
        "  str2=i+str2\n",
        "  print(str2)\n",
        "if(str1==str2):\n",
        "  print(\"True\")\n",
        "else:\n",
        "  print(\"False\")"
      ]
    },
    {
      "cell_type": "code",
      "source": [
        "str1=\"abcba\"\n",
        "str2=\"\"\n",
        "for i in str1:\n",
        "  str2=i+str2\n",
        "  print(str2)\n",
        "if(str1==str2):\n",
        "  print(\"True\")\n",
        "else:\n",
        "  print(\"False\")"
      ],
      "metadata": {
        "colab": {
          "base_uri": "https://localhost:8080/"
        },
        "id": "VZzHl8z4FWV6",
        "outputId": "bfb7f939-0525-425f-f95f-424c3399553b"
      },
      "execution_count": 13,
      "outputs": [
        {
          "output_type": "stream",
          "name": "stdout",
          "text": [
            "a\n",
            "ba\n",
            "cba\n",
            "bcba\n",
            "abcba\n",
            "True\n"
          ]
        }
      ]
    }
  ]
}