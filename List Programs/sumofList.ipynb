{
  "nbformat": 4,
  "nbformat_minor": 0,
  "metadata": {
    "colab": {
      "provenance": []
    },
    "kernelspec": {
      "name": "python3",
      "display_name": "Python 3"
    },
    "language_info": {
      "name": "python"
    }
  },
  "cells": [
    {
      "cell_type": "code",
      "execution_count": 6,
      "metadata": {
        "colab": {
          "base_uri": "https://localhost:8080/"
        },
        "id": "tt2iQ4ET3zFl",
        "outputId": "ae87c32d-eec6-4378-eb5c-1be0bd71bac6"
      },
      "outputs": [
        {
          "output_type": "stream",
          "name": "stdout",
          "text": [
            "[0]\n",
            "[0, 2]\n",
            "[0, 2, 4]\n",
            "[0, 2, 4, 6]\n",
            "[0, 2, 4, 6, 8]\n",
            "[0, 2, 4, 6, 8, 10]\n",
            "Sum: 30\n"
          ]
        }
      ],
      "source": [
        "L1=[]\n",
        "sum=0\n",
        "for x in range(0,11):\n",
        "  if x%2==0:\n",
        "    L1.append(x)\n",
        "    print(L1)\n",
        "    sum=sum+x\n",
        "  x=x+2\n",
        "print(\"Sum:\",sum)\n"
      ]
    },
    {
      "cell_type": "code",
      "source": [
        "L1=[0,1,2,3,4,5,6,7,8,9,10]\n",
        "sum=0\n",
        "for i in L1:\n",
        "   if (i%2)==0:\n",
        "    sum=sum+i\n",
        "   i=i+2\n",
        "print(\"sum\",sum)"
      ],
      "metadata": {
        "colab": {
          "base_uri": "https://localhost:8080/"
        },
        "id": "eRP0AePN81pK",
        "outputId": "a89a9b33-800d-4005-e0a0-20a6f5f7395e"
      },
      "execution_count": 10,
      "outputs": [
        {
          "output_type": "stream",
          "name": "stdout",
          "text": [
            "sum 30\n"
          ]
        }
      ]
    }
  ]
}