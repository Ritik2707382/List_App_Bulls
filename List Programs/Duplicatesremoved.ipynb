{
  "nbformat": 4,
  "nbformat_minor": 0,
  "metadata": {
    "colab": {
      "provenance": []
    },
    "kernelspec": {
      "name": "python3",
      "display_name": "Python 3"
    },
    "language_info": {
      "name": "python"
    }
  },
  "cells": [
    {
      "cell_type": "code",
      "execution_count": 1,
      "metadata": {
        "colab": {
          "base_uri": "https://localhost:8080/"
        },
        "id": "R_sYTuz_arix",
        "outputId": "356b0214-c768-44b4-b517-bde3e2172318"
      },
      "outputs": [
        {
          "output_type": "stream",
          "name": "stdout",
          "text": [
            "[2, 3, 4, 6, 8, 10]\n"
          ]
        }
      ],
      "source": [
        "list1=[4,4,10,6,4,8,3,2]\n",
        "list2=list(set(list1))\n",
        "print(\"list2:\",list2)"
      ]
    }
  ]
}