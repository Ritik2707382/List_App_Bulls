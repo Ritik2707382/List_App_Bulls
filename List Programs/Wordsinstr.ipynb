{
  "nbformat": 4,
  "nbformat_minor": 0,
  "metadata": {
    "colab": {
      "provenance": []
    },
    "kernelspec": {
      "name": "python3",
      "display_name": "Python 3"
    },
    "language_info": {
      "name": "python"
    }
  },
  "cells": [
    {
      "cell_type": "code",
      "execution_count": 17,
      "metadata": {
        "colab": {
          "base_uri": "https://localhost:8080/"
        },
        "id": "28ZTM6FNpmOf",
        "outputId": "881c053b-1ddb-4a0a-d0d6-b57e7d161916"
      },
      "outputs": [
        {
          "output_type": "stream",
          "name": "stdout",
          "text": [
            "2\n"
          ]
        }
      ],
      "source": [
        "str1=\"Hello World,Hello World\"\n",
        "x=str1.count('Hello World')\n",
        "print(x)"
      ]
    }
  ]
}