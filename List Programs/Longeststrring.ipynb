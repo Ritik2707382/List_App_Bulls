{
  "nbformat": 4,
  "nbformat_minor": 0,
  "metadata": {
    "colab": {
      "provenance": []
    },
    "kernelspec": {
      "name": "python3",
      "display_name": "Python 3"
    },
    "language_info": {
      "name": "python"
    }
  },
  "cells": [
    {
      "cell_type": "code",
      "execution_count": 6,
      "metadata": {
        "colab": {
          "base_uri": "https://localhost:8080/"
        },
        "id": "SIu-lgYVC-r_",
        "outputId": "ecc24bfe-8432-4793-cf02-05783009bea7"
      },
      "outputs": [
        {
          "output_type": "stream",
          "name": "stdout",
          "text": [
            "hello\n"
          ]
        }
      ],
      "source": [
        "L1=[\"hello\",\"hey\",\"2\",\"char\",\"to\"]\n",
        "max_val=max(L1,key=len)\n",
        "print(max_val)"
      ]
    }
  ]
}