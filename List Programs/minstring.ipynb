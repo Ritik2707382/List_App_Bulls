{
  "nbformat": 4,
  "nbformat_minor": 0,
  "metadata": {
    "colab": {
      "provenance": []
    },
    "kernelspec": {
      "name": "python3",
      "display_name": "Python 3"
    },
    "language_info": {
      "name": "python"
    }
  },
  "cells": [
    {
      "cell_type": "code",
      "execution_count": 2,
      "metadata": {
        "id": "AcHAbEDBmn4a",
        "colab": {
          "base_uri": "https://localhost:8080/"
        },
        "outputId": "5354efba-80ed-442c-bffe-291b75e15249"
      },
      "outputs": [
        {
          "output_type": "stream",
          "name": "stdout",
          "text": [
            "a\n"
          ]
        }
      ],
      "source": [
        "list1=[\"a\",\"geeks\",\"cv\",\"hh\",\"two\"]\n",
        "min_value=min(list1,key=len)\n",
        "print(min_value)"
      ]
    }
  ]
}