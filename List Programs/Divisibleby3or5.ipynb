{
  "nbformat": 4,
  "nbformat_minor": 0,
  "metadata": {
    "colab": {
      "provenance": []
    },
    "kernelspec": {
      "name": "python3",
      "display_name": "Python 3"
    },
    "language_info": {
      "name": "python"
    }
  },
  "cells": [
    {
      "cell_type": "code",
      "execution_count": 1,
      "metadata": {
        "colab": {
          "base_uri": "https://localhost:8080/"
        },
        "id": "fC3zuE2-oZ9H",
        "outputId": "24b469a7-2b13-4085-e52a-f951b69af0f6"
      },
      "outputs": [
        {
          "output_type": "stream",
          "name": "stdout",
          "text": [
            "40\n"
          ]
        }
      ],
      "source": [
        "list1=[1,6,9,15,10,2]\n",
        "sum=0\n",
        "for i in list1:\n",
        "  if (i%3==0) or (i%5==0):\n",
        "    sum=sum+i\n",
        "    i=i+1\n",
        "print(sum)"
      ]
    }
  ]
}