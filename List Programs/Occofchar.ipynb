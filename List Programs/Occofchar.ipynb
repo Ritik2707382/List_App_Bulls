{
  "nbformat": 4,
  "nbformat_minor": 0,
  "metadata": {
    "colab": {
      "provenance": []
    },
    "kernelspec": {
      "name": "python3",
      "display_name": "Python 3"
    },
    "language_info": {
      "name": "python"
    }
  },
  "cells": [
    {
      "cell_type": "code",
      "execution_count": 4,
      "metadata": {
        "colab": {
          "base_uri": "https://localhost:8080/"
        },
        "id": "yPyCic0NsriO",
        "outputId": "e77b4a97-2e97-4ac3-da8e-c76752bba935"
      },
      "outputs": [
        {
          "output_type": "stream",
          "name": "stdout",
          "text": [
            "1\n",
            "3\n"
          ]
        }
      ],
      "source": [
        "str1=\"Hello World\"\n",
        "str2=str1.count('e')\n",
        "print(str2)\n",
        "str2=str1.count('l')\n",
        "print(str2)"
      ]
    }
  ]
}